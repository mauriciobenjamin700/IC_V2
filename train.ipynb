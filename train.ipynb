{
 "cells": [
  {
   "cell_type": "markdown",
   "metadata": {},
   "source": [
    "# Preparação da base de dados para treinar os classificadores"
   ]
  },
  {
   "cell_type": "code",
   "execution_count": 1,
   "metadata": {},
   "outputs": [],
   "source": [
    "from src import (\n",
    "    Folder,\n",
    "    GetModel,\n",
    "    SegmentedList,\n",
    "    ds2df,\n",
    "    save_results,\n",
    "    File2df,\n",
    "    Best_rf,\n",
    "    MLP,\n",
    "    SVM,\n",
    "    XGBoost,\n",
    "    KNN,\n",
    "    GBM,\n",
    "    List2Best,\n",
    "    Save_model\n",
    "    )\n",
    "\n",
    "from os.path import join\n",
    "DATA = \"Dados\"\n",
    "MODEL = \"Models\""
   ]
  },
  {
   "cell_type": "code",
   "execution_count": null,
   "metadata": {},
   "outputs": [],
   "source": [
    "#adquindo as imagens e seus respectivos rotulos\n",
    "#dataBasePath = join(DATA,\"dados\")\n",
    "dataBasePath = join(DATA,\"changed\",\"segmentation\")\n",
    "images, labels = Folder(dataBasePath)"
   ]
  },
  {
   "cell_type": "markdown",
   "metadata": {},
   "source": [
    "## Caso as imagens não estejam segmentadas, podemos segmentalas"
   ]
  },
  {
   "cell_type": "code",
   "execution_count": null,
   "metadata": {},
   "outputs": [],
   "source": [
    "\n",
    "segmentation_model = GetModel(join(\"models,best.pt\"))\n",
    "process_images = SegmentedList(images,segmentation_model)"
   ]
  },
  {
   "cell_type": "code",
   "execution_count": null,
   "metadata": {},
   "outputs": [],
   "source": [
    "# com as imagens processadas, precisamos descartar as imagens que não foram segmentadas e salvar seu nome em um arquivo com as falhas\n",
    "\n",
    "def clear_fails(process_images, labels,anotation_fails: str =r\"Dados\\falhas.txt\"):\n",
    "    fails = []\n",
    "\n",
    "    # Iterando de trás para frente\n",
    "    for i in range(len(process_images) - 1, -1, -1):\n",
    "        if process_images[i] is None:\n",
    "            fails.append(labels[i])\n",
    "            \n",
    "            # Remove os elementos das listas\n",
    "            del process_images[i]\n",
    "            del labels[i]\n",
    "\n",
    "\n",
    "    with open(anotation_fails, \"w\") as arquivo:\n",
    "        for fail in fails:\n",
    "            arquivo.write(fail + \"\\n\")\n",
    "            \n",
    "    print(\"Imagens segmentadas com sucesso: \",len(process_images))\n",
    "    print(\"Rotulos validos: \",len(labels))\n",
    "\n",
    "#clear_fails(process_images,labels)"
   ]
  },
  {
   "cell_type": "markdown",
   "metadata": {},
   "source": [
    "# Extraindo as Caracteristicas de interesse da base de dados"
   ]
  },
  {
   "cell_type": "code",
   "execution_count": null,
   "metadata": {},
   "outputs": [],
   "source": [
    "#df = ds2df(process_images,labels)\n",
    "df = ds2df(images,labels)"
   ]
  },
  {
   "cell_type": "markdown",
   "metadata": {},
   "source": [
    "### Visando evitar repetir o processamento para a mesma base de dados podemos exportar a mesma para um arquivo e apenas ler a partir do arquivo quando quisermos novamente"
   ]
  },
  {
   "cell_type": "code",
   "execution_count": null,
   "metadata": {},
   "outputs": [],
   "source": [
    "# vamos registrar os datasets por dada de sua geração\n",
    "from datetime import datetime\n",
    "data = str(datetime.today()).split(\" \")[0].split(\"-\")\n",
    "data = data[2] + '-' + data[1] + '-' + data[0]\n",
    "data"
   ]
  },
  {
   "cell_type": "code",
   "execution_count": null,
   "metadata": {},
   "outputs": [],
   "source": [
    "\n",
    "save_results(df,DATA,data,\".csv\")"
   ]
  },
  {
   "cell_type": "markdown",
   "metadata": {},
   "source": [
    "### Carregando nossos dados a partir de um dataset .csv"
   ]
  },
  {
   "cell_type": "code",
   "execution_count": 3,
   "metadata": {},
   "outputs": [
    {
     "name": "stdout",
     "output_type": "stream",
     "text": [
      ".csv\n"
     ]
    },
    {
     "data": {
      "text/plain": [
       "Index(['Name', 'FAMACHA', 'Mean_R', 'Mean_G', 'Mean_B', 'Median_R', 'Median_G',\n",
       "       'Median_B', 'Std_R', 'Std_G', 'Std_B'],\n",
       "      dtype='object')"
      ]
     },
     "execution_count": 3,
     "metadata": {},
     "output_type": "execute_result"
    }
   ],
   "source": [
    "# caso não tenhamos nosso DataFrame carregado, podemos carregalo apartir de um arquivo\n",
    "df = File2df(join(DATA,\"13-03-2024.csv\"))\n",
    "\n",
    "df.drop(\"Unnamed: 0\",axis=1,inplace=True)\n",
    "df.columns"
   ]
  },
  {
   "cell_type": "markdown",
   "metadata": {},
   "source": [
    "# Treinando os classificadores"
   ]
  },
  {
   "cell_type": "code",
   "execution_count": null,
   "metadata": {},
   "outputs": [],
   "source": [
    "rf = Best_rf(df,join(\"docs\",\"classification\"))\n"
   ]
  },
  {
   "cell_type": "markdown",
   "metadata": {},
   "source": [
    "### Vamos pegar a melhor versão de cada modelo"
   ]
  },
  {
   "cell_type": "code",
   "execution_count": 4,
   "metadata": {},
   "outputs": [
    {
     "data": {
      "text/plain": [
       "[('MLP', 0.1, 70.69, 68.0, 97.14, 80.0, 31.05),\n",
       " ('MLP', 0.2, 70.69, 74.8, 71.32, 73.02, 40.98),\n",
       " ('MLP', 0.3, 72.13, 68.58, 92.27, 78.68, 40.85),\n",
       " ('SVM', 0.1, 76.72, 78.67, 84.29, 81.38, 50.44),\n",
       " ('SVM', 0.2, 74.14, 71.7, 88.37, 79.17, 46.03),\n",
       " ('SVM', 0.3, 68.39, 66.41, 87.63, 75.56, 33.16),\n",
       " ('XGBoost', 0.1, 98.28, 100.0, 97.14, 98.55, 96.42),\n",
       " ('XGBoost', 0.2, 94.83, 95.35, 95.35, 95.35, 89.52),\n",
       " ('XGBoost', 0.3, 94.25, 95.79, 93.81, 94.79, 88.38),\n",
       " ('KNN', 0.1, 92.24, 95.52, 91.43, 93.43, 83.97),\n",
       " ('KNN', 0.2, 85.34, 86.82, 86.82, 86.82, 70.32),\n",
       " ('KNN', 0.3, 83.91, 83.17, 89.18, 86.07, 67.08),\n",
       " ('GBM', 0.1, 93.1, 95.59, 92.86, 94.2, 85.7),\n",
       " ('GBM', 0.2, 87.93, 86.86, 92.25, 89.47, 75.36),\n",
       " ('GBM', 0.3, 87.07, 86.34, 91.24, 88.72, 73.6)]"
      ]
     },
     "execution_count": 4,
     "metadata": {},
     "output_type": "execute_result"
    }
   ],
   "source": [
    "bests_list = []\n",
    "\n",
    "funcs = [MLP,SVM,XGBoost,KNN,GBM]\n",
    "names = [\"MLP\",\"SVM\",\"XGBoost\",\"KNN\",\"GBM\"]\n",
    "\n",
    "args = (0.1,0.2,0.3)\n",
    "\n",
    "for i,func in enumerate(funcs,0):\n",
    "\n",
    "    for arg in args:\n",
    "        \n",
    "        _, accuracy, precision, recall, f1, kappa = func(df,arg)\n",
    "        bests_list.append((names[i],arg,accuracy, precision, recall, f1, kappa))\n",
    "    \n",
    "bests_list"
   ]
  },
  {
   "cell_type": "code",
   "execution_count": 3,
   "metadata": {},
   "outputs": [],
   "source": [
    "output = join(\"docs\",\"classification\")"
   ]
  },
  {
   "cell_type": "code",
   "execution_count": 6,
   "metadata": {},
   "outputs": [
    {
     "data": {
      "text/plain": [
       "'XGBoost'"
      ]
     },
     "execution_count": 6,
     "metadata": {},
     "output_type": "execute_result"
    }
   ],
   "source": [
    "\n",
    "\n",
    "best = List2Best(bests_list,output,f\"not rf.csv\",True)\n",
    "best"
   ]
  },
  {
   "cell_type": "code",
   "execution_count": null,
   "metadata": {},
   "outputs": [],
   "source": [
    "# caso gostemos do resultado e desejemos salvar o modelo\n",
    "Save_model(model,join(MODEL,'rf'))"
   ]
  },
  {
   "cell_type": "markdown",
   "metadata": {},
   "source": [
    "# Avaliando o comparativo dos modelos "
   ]
  },
  {
   "cell_type": "code",
   "execution_count": 4,
   "metadata": {},
   "outputs": [
    {
     "name": "stdout",
     "output_type": "stream",
     "text": [
      ".csv\n"
     ]
    },
    {
     "data": {
      "text/plain": [
       "Index(['Modelo', 'Versão', 'Accuracy', 'Precision', 'Recall', 'F1', 'Kappa',\n",
       "       'Total'],\n",
       "      dtype='object')"
      ]
     },
     "execution_count": 4,
     "metadata": {},
     "output_type": "execute_result"
    }
   ],
   "source": [
    "# caso não tenhamos nosso DataFrame carregado, podemos carregalo apartir de um arquivo\n",
    "result_models = File2df(join(output,\"not rf.csv\"))\n",
    "\n",
    "#result_models.drop(\"Unnamed: 0\",axis=1,inplace=True)\n",
    "result_models.columns"
   ]
  },
  {
   "cell_type": "code",
   "execution_count": 10,
   "metadata": {},
   "outputs": [
    {
     "data": {
      "text/html": [
       "<div>\n",
       "<style scoped>\n",
       "    .dataframe tbody tr th:only-of-type {\n",
       "        vertical-align: middle;\n",
       "    }\n",
       "\n",
       "    .dataframe tbody tr th {\n",
       "        vertical-align: top;\n",
       "    }\n",
       "\n",
       "    .dataframe thead th {\n",
       "        text-align: right;\n",
       "    }\n",
       "</style>\n",
       "<table border=\"1\" class=\"dataframe\">\n",
       "  <thead>\n",
       "    <tr style=\"text-align: right;\">\n",
       "      <th></th>\n",
       "      <th>Modelo</th>\n",
       "      <th>Versão</th>\n",
       "      <th>Accuracy</th>\n",
       "      <th>Precision</th>\n",
       "      <th>Recall</th>\n",
       "      <th>F1</th>\n",
       "      <th>Kappa</th>\n",
       "      <th>Total</th>\n",
       "    </tr>\n",
       "  </thead>\n",
       "  <tbody>\n",
       "    <tr>\n",
       "      <th>0</th>\n",
       "      <td>XGBoost</td>\n",
       "      <td>0.1</td>\n",
       "      <td>98.28</td>\n",
       "      <td>100.00</td>\n",
       "      <td>97.14</td>\n",
       "      <td>98.55</td>\n",
       "      <td>96.42</td>\n",
       "      <td>490.39</td>\n",
       "    </tr>\n",
       "    <tr>\n",
       "      <th>1</th>\n",
       "      <td>XGBoost</td>\n",
       "      <td>0.2</td>\n",
       "      <td>94.83</td>\n",
       "      <td>95.35</td>\n",
       "      <td>95.35</td>\n",
       "      <td>95.35</td>\n",
       "      <td>89.52</td>\n",
       "      <td>470.40</td>\n",
       "    </tr>\n",
       "    <tr>\n",
       "      <th>2</th>\n",
       "      <td>XGBoost</td>\n",
       "      <td>0.3</td>\n",
       "      <td>94.25</td>\n",
       "      <td>95.79</td>\n",
       "      <td>93.81</td>\n",
       "      <td>94.79</td>\n",
       "      <td>88.38</td>\n",
       "      <td>467.02</td>\n",
       "    </tr>\n",
       "    <tr>\n",
       "      <th>3</th>\n",
       "      <td>GBM</td>\n",
       "      <td>0.1</td>\n",
       "      <td>93.10</td>\n",
       "      <td>95.59</td>\n",
       "      <td>92.86</td>\n",
       "      <td>94.20</td>\n",
       "      <td>85.70</td>\n",
       "      <td>461.45</td>\n",
       "    </tr>\n",
       "    <tr>\n",
       "      <th>4</th>\n",
       "      <td>KNN</td>\n",
       "      <td>0.1</td>\n",
       "      <td>92.24</td>\n",
       "      <td>95.52</td>\n",
       "      <td>91.43</td>\n",
       "      <td>93.43</td>\n",
       "      <td>83.97</td>\n",
       "      <td>456.59</td>\n",
       "    </tr>\n",
       "    <tr>\n",
       "      <th>5</th>\n",
       "      <td>GBM</td>\n",
       "      <td>0.2</td>\n",
       "      <td>87.93</td>\n",
       "      <td>86.86</td>\n",
       "      <td>92.25</td>\n",
       "      <td>89.47</td>\n",
       "      <td>75.36</td>\n",
       "      <td>431.87</td>\n",
       "    </tr>\n",
       "    <tr>\n",
       "      <th>6</th>\n",
       "      <td>GBM</td>\n",
       "      <td>0.3</td>\n",
       "      <td>87.07</td>\n",
       "      <td>86.34</td>\n",
       "      <td>91.24</td>\n",
       "      <td>88.72</td>\n",
       "      <td>73.60</td>\n",
       "      <td>426.97</td>\n",
       "    </tr>\n",
       "    <tr>\n",
       "      <th>7</th>\n",
       "      <td>KNN</td>\n",
       "      <td>0.2</td>\n",
       "      <td>85.34</td>\n",
       "      <td>86.82</td>\n",
       "      <td>86.82</td>\n",
       "      <td>86.82</td>\n",
       "      <td>70.32</td>\n",
       "      <td>416.12</td>\n",
       "    </tr>\n",
       "    <tr>\n",
       "      <th>8</th>\n",
       "      <td>KNN</td>\n",
       "      <td>0.3</td>\n",
       "      <td>83.91</td>\n",
       "      <td>83.17</td>\n",
       "      <td>89.18</td>\n",
       "      <td>86.07</td>\n",
       "      <td>67.08</td>\n",
       "      <td>409.41</td>\n",
       "    </tr>\n",
       "    <tr>\n",
       "      <th>9</th>\n",
       "      <td>SVM</td>\n",
       "      <td>0.1</td>\n",
       "      <td>76.72</td>\n",
       "      <td>78.67</td>\n",
       "      <td>84.29</td>\n",
       "      <td>81.38</td>\n",
       "      <td>50.44</td>\n",
       "      <td>371.50</td>\n",
       "    </tr>\n",
       "    <tr>\n",
       "      <th>10</th>\n",
       "      <td>SVM</td>\n",
       "      <td>0.2</td>\n",
       "      <td>74.14</td>\n",
       "      <td>71.70</td>\n",
       "      <td>88.37</td>\n",
       "      <td>79.17</td>\n",
       "      <td>46.03</td>\n",
       "      <td>359.41</td>\n",
       "    </tr>\n",
       "    <tr>\n",
       "      <th>11</th>\n",
       "      <td>MLP</td>\n",
       "      <td>0.3</td>\n",
       "      <td>72.13</td>\n",
       "      <td>68.58</td>\n",
       "      <td>92.27</td>\n",
       "      <td>78.68</td>\n",
       "      <td>40.85</td>\n",
       "      <td>352.51</td>\n",
       "    </tr>\n",
       "    <tr>\n",
       "      <th>12</th>\n",
       "      <td>MLP</td>\n",
       "      <td>0.1</td>\n",
       "      <td>70.69</td>\n",
       "      <td>68.00</td>\n",
       "      <td>97.14</td>\n",
       "      <td>80.00</td>\n",
       "      <td>31.05</td>\n",
       "      <td>346.88</td>\n",
       "    </tr>\n",
       "    <tr>\n",
       "      <th>13</th>\n",
       "      <td>SVM</td>\n",
       "      <td>0.3</td>\n",
       "      <td>68.39</td>\n",
       "      <td>66.41</td>\n",
       "      <td>87.63</td>\n",
       "      <td>75.56</td>\n",
       "      <td>33.16</td>\n",
       "      <td>331.15</td>\n",
       "    </tr>\n",
       "    <tr>\n",
       "      <th>14</th>\n",
       "      <td>MLP</td>\n",
       "      <td>0.2</td>\n",
       "      <td>70.69</td>\n",
       "      <td>74.80</td>\n",
       "      <td>71.32</td>\n",
       "      <td>73.02</td>\n",
       "      <td>40.98</td>\n",
       "      <td>330.81</td>\n",
       "    </tr>\n",
       "  </tbody>\n",
       "</table>\n",
       "</div>"
      ],
      "text/plain": [
       "     Modelo  Versão  Accuracy  Precision  Recall     F1  Kappa   Total\n",
       "0   XGBoost     0.1     98.28     100.00   97.14  98.55  96.42  490.39\n",
       "1   XGBoost     0.2     94.83      95.35   95.35  95.35  89.52  470.40\n",
       "2   XGBoost     0.3     94.25      95.79   93.81  94.79  88.38  467.02\n",
       "3       GBM     0.1     93.10      95.59   92.86  94.20  85.70  461.45\n",
       "4       KNN     0.1     92.24      95.52   91.43  93.43  83.97  456.59\n",
       "5       GBM     0.2     87.93      86.86   92.25  89.47  75.36  431.87\n",
       "6       GBM     0.3     87.07      86.34   91.24  88.72  73.60  426.97\n",
       "7       KNN     0.2     85.34      86.82   86.82  86.82  70.32  416.12\n",
       "8       KNN     0.3     83.91      83.17   89.18  86.07  67.08  409.41\n",
       "9       SVM     0.1     76.72      78.67   84.29  81.38  50.44  371.50\n",
       "10      SVM     0.2     74.14      71.70   88.37  79.17  46.03  359.41\n",
       "11      MLP     0.3     72.13      68.58   92.27  78.68  40.85  352.51\n",
       "12      MLP     0.1     70.69      68.00   97.14  80.00  31.05  346.88\n",
       "13      SVM     0.3     68.39      66.41   87.63  75.56  33.16  331.15\n",
       "14      MLP     0.2     70.69      74.80   71.32  73.02  40.98  330.81"
      ]
     },
     "execution_count": 10,
     "metadata": {},
     "output_type": "execute_result"
    }
   ],
   "source": [
    "result_models"
   ]
  },
  {
   "cell_type": "code",
   "execution_count": 15,
   "metadata": {},
   "outputs": [
    {
     "data": {
      "text/plain": [
       "array(['XGBoost', 'GBM', 'KNN', 'SVM', 'MLP'], dtype=object)"
      ]
     },
     "execution_count": 15,
     "metadata": {},
     "output_type": "execute_result"
    }
   ],
   "source": [
    "rotulos = result_models.Modelo.unique()\n",
    "rotulos"
   ]
  },
  {
   "cell_type": "code",
   "execution_count": 9,
   "metadata": {},
   "outputs": [
    {
     "name": "stdout",
     "output_type": "stream",
     "text": [
      "[Modelo       XGBoost\n",
      "Versão           0.1\n",
      "Accuracy       98.28\n",
      "Precision      100.0\n",
      "Recall         97.14\n",
      "F1             98.55\n",
      "Kappa          96.42\n",
      "Total         490.39\n",
      "Name: 0, dtype: object, Modelo          GBM\n",
      "Versão          0.1\n",
      "Accuracy       93.1\n",
      "Precision     95.59\n",
      "Recall        92.86\n",
      "F1             94.2\n",
      "Kappa          85.7\n",
      "Total        461.45\n",
      "Name: 3, dtype: object, Modelo          KNN\n",
      "Versão          0.1\n",
      "Accuracy      92.24\n",
      "Precision     95.52\n",
      "Recall        91.43\n",
      "F1            93.43\n",
      "Kappa         83.97\n",
      "Total        456.59\n",
      "Name: 4, dtype: object, Modelo         SVM\n",
      "Versão         0.1\n",
      "Accuracy     76.72\n",
      "Precision    78.67\n",
      "Recall       84.29\n",
      "F1           81.38\n",
      "Kappa        50.44\n",
      "Total        371.5\n",
      "Name: 9, dtype: object, Modelo          MLP\n",
      "Versão          0.3\n",
      "Accuracy      72.13\n",
      "Precision     68.58\n",
      "Recall        92.27\n",
      "F1            78.68\n",
      "Kappa         40.85\n",
      "Total        352.51\n",
      "Name: 11, dtype: object]\n",
      "     Modelo  Versão  Accuracy  Precision  Recall     F1  Kappa   Total\n",
      "0   XGBoost     0.1     98.28     100.00   97.14  98.55  96.42  490.39\n",
      "3       GBM     0.1     93.10      95.59   92.86  94.20  85.70  461.45\n",
      "4       KNN     0.1     92.24      95.52   91.43  93.43  83.97  456.59\n",
      "9       SVM     0.1     76.72      78.67   84.29  81.38  50.44  371.50\n",
      "11      MLP     0.3     72.13      68.58   92.27  78.68  40.85  352.51\n"
     ]
    }
   ],
   "source": [
    "# Suponha que 'df' seja o DataFrame contendo os resultados dos modelos\n",
    "\n",
    "# Rótulos dos modelos\n",
    "model_labels = ['XGBoost', 'GBM', 'KNN', 'SVM', 'MLP']\n",
    "\n",
    "# Lista para armazenar os melhores resultados de cada modelo\n",
    "best_results = []\n",
    "\n",
    "# Iterar sobre os rótulos dos modelos\n",
    "for model_label in model_labels:\n",
    "    # Filtrar o DataFrame para o modelo atual\n",
    "    model_df = result_models[result_models['Modelo'] == model_label]\n",
    "    \n",
    "    # Encontrar a linha com o melhor resultado para o modelo atual\n",
    "    best_row = model_df.loc[model_df['Total'].idxmax()]\n",
    "    \n",
    "    # Adicionar o resultado à lista de melhores resultados\n",
    "    best_results.append(best_row)\n",
    "\n",
    "import pandas as pd\n",
    "# Criar um DataFrame com os melhores resultados\n",
    "print(best_results)\n",
    "best_results_df = pd.DataFrame(best_results)\n",
    "\n",
    "# Exibir o DataFrame com os melhores resultados\n",
    "print(best_results_df)\n"
   ]
  },
  {
   "cell_type": "code",
   "execution_count": 7,
   "metadata": {},
   "outputs": [],
   "source": [
    "import matplotlib.pyplot as plt"
   ]
  },
  {
   "cell_type": "code",
   "execution_count": 8,
   "metadata": {},
   "outputs": [
    {
     "data": {
      "image/png": "[encoded data removed]",
      "text/plain": [
       "<Figure size 1000x600 with 1 Axes>"
      ]
     },
     "metadata": {},
     "output_type": "display_data"
    }
   ],
   "source": [
    "# Extrair os nomes dos itens e os valores de desempenho\n",
    "itens = [item[1] for item in result_models]\n",
    "desempenho = [item[-1] for item in result_models]\n",
    "\n",
    "# Plotar o gráfico\n",
    "plt.figure(figsize=(10, 6))\n",
    "plt.barh(itens, desempenho, color='skyblue')\n",
    "plt.xlabel('Desempenho')\n",
    "plt.ylabel('Itens')\n",
    "plt.title('Comparação de Desempenho entre Itens')\n",
    "plt.grid(axis='x')\n",
    "plt.show()"
   ]
  }
 ],
 "metadata": {
  "kernelspec": {
   "display_name": "venv",
   "language": "python",
   "name": "python3"
  },
  "language_info": {
   "codemirror_mode": {
    "name": "ipython",
    "version": 3
   },
   "file_extension": ".py",
   "mimetype": "text/x-python",
   "name": "python",
   "nbconvert_exporter": "python",
   "pygments_lexer": "ipython3",
   "version": "3.12.2"
  }
 },
 "nbformat": 4,
 "nbformat_minor": 2
}
