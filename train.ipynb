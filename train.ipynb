{
 "cells": [
  {
   "cell_type": "markdown",
   "metadata": {},
   "source": [
    "# Preparação da base de dados para treinar os classificadores"
   ]
  },
  {
   "cell_type": "code",
   "execution_count": null,
   "metadata": {},
   "outputs": [],
   "source": [
    "from src import (\n",
    "    Folder,\n",
    "    GetModel,\n",
    "    SegmentedList,\n",
    "    ds2df,\n",
    "    save_results,\n",
    "    File2df,\n",
    "    Best_rf,\n",
    "    Rf,\n",
    "    MLP,\n",
    "    SVM,\n",
    "    XGBoost,\n",
    "    KNN,\n",
    "    GBM,\n",
    "    List2Best,\n",
    "    Save_model\n",
    "    )\n",
    "\n",
    "from os.path import join\n",
    "DATA = \"Dados\"\n",
    "MODEL = \"Models\""
   ]
  },
  {
   "cell_type": "code",
   "execution_count": null,
   "metadata": {},
   "outputs": [],
   "source": [
    "#adquindo as imagens e seus respectivos rotulos\n",
    "#dataBasePath = join(DATA,\"dados\")\n",
    "dataBasePath = join(DATA,\"changed\",\"segmentation\")\n",
    "images, labels = Folder(dataBasePath)"
   ]
  },
  {
   "cell_type": "markdown",
   "metadata": {},
   "source": [
    "## Caso as imagens não estejam segmentadas, podemos segmentalas"
   ]
  },
  {
   "cell_type": "code",
   "execution_count": null,
   "metadata": {},
   "outputs": [],
   "source": [
    "\n",
    "segmentation_model = GetModel(join(\"models\",\"best.pt\"))\n",
    "process_images = SegmentedList(images,segmentation_model,is_resized=True) # Por padrão redimensionar garante menor taxa de falha\n",
    "#process_images = SegmentedList(images,segmentation_model,is_resized=True)"
   ]
  },
  {
   "cell_type": "code",
   "execution_count": null,
   "metadata": {},
   "outputs": [],
   "source": [
    "# com as imagens processadas, precisamos descartar as imagens que não foram segmentadas e salvar seu nome em um arquivo com as falhas\n",
    "\n",
    "def clear_fails(process_images, labels):\n",
    "    fails = []\n",
    "\n",
    "    # Iterando de trás para frente\n",
    "    for i in reversed(range(len(process_images))):\n",
    "        if process_images[i] is None:\n",
    "            fails.append(labels[i])\n",
    "            # Remove os elementos das listas\n",
    "\n",
    "    return fails\n",
    "\n",
    "fails = clear_fails(process_images,labels)\n",
    "\n",
    "print(f\"Quantidade: {len(fails)}\\nFalhas:\",fails)\n",
    "\n",
    "#msg = \"falhas-normais-\"\n",
    "#msg = \"falhas-redimensionadas-\"\n",
    "\n",
    "anotation_fails= join(\"docs\",\"Falhas\",\"seg-2\",rf\"{msg}-{data}.txt\")\n",
    "\n",
    "with open(anotation_fails, \"w\") as arquivo:\n",
    "        for fail in fails:\n",
    "            arquivo.write(fail + \"\\n\")"
   ]
  },
  {
   "cell_type": "markdown",
   "metadata": {},
   "source": [
    "# Extraindo as Caracteristicas de interesse da base de dados"
   ]
  },
  {
   "cell_type": "code",
   "execution_count": null,
   "metadata": {},
   "outputs": [],
   "source": [
    "#df = ds2df(process_images,labels)\n",
    "df = ds2df(valid_images,valid_labels)"
   ]
  },
  {
   "cell_type": "markdown",
   "metadata": {},
   "source": [
    "### Visando evitar repetir o processamento para a mesma base de dados podemos exportar a mesma para um arquivo e apenas ler a partir do arquivo quando quisermos novamente"
   ]
  },
  {
   "cell_type": "code",
   "execution_count": null,
   "metadata": {},
   "outputs": [],
   "source": []
  },
  {
   "cell_type": "code",
   "execution_count": null,
   "metadata": {},
   "outputs": [],
   "source": [
    "\n",
    "save_results(df,DATA,\"resize-969\",\".csv\")"
   ]
  },
  {
   "cell_type": "markdown",
   "metadata": {},
   "source": [
    "### Carregando nossos dados a partir de um dataset .csv"
   ]
  },
  {
   "cell_type": "code",
   "execution_count": null,
   "metadata": {},
   "outputs": [],
   "source": [
    "# caso não tenhamos nosso DataFrame carregado, podemos carregalo apartir de um arquivo\n",
    "df = File2df(join(DATA,\"13-03-2024.csv\"))\n",
    "\n",
    "#df.drop(\"Unnamed: 0\",axis=1,inplace=True)\n",
    "df.columns"
   ]
  },
  {
   "cell_type": "markdown",
   "metadata": {},
   "source": [
    "# Treinando os classificadores"
   ]
  },
  {
   "cell_type": "code",
   "execution_count": null,
   "metadata": {},
   "outputs": [],
   "source": [
    "rf = Best_rf(df,join(\"docs\",\"classification\"))\n"
   ]
  },
  {
   "cell_type": "markdown",
   "metadata": {},
   "source": [
    "### Vamos pegar a melhor versão de cada modelo"
   ]
  },
  {
   "cell_type": "code",
   "execution_count": null,
   "metadata": {},
   "outputs": [],
   "source": [
    "bests_list = []\n",
    "\n",
    "funcs = [Rf, MLP,SVM,XGBoost,KNN,GBM]\n",
    "names = [\"RF\",\"MLP\",\"SVM\",\"XGBoost\",\"KNN\",\"GBM\"]\n",
    "\n",
    "args = (0.1,0.2,0.3)\n",
    "\n",
    "for i,func in enumerate(funcs,0):\n",
    "\n",
    "    for arg in args:\n",
    "        \n",
    "        _, accuracy, precision, recall, f1, kappa = func(df,arg)\n",
    "        bests_list.append((names[i],arg,accuracy, precision, recall, f1, kappa))\n",
    "    \n",
    "bests_list"
   ]
  },
  {
   "cell_type": "code",
   "execution_count": null,
   "metadata": {},
   "outputs": [],
   "source": [
    "output = join(\"docs\",\"classification\")"
   ]
  },
  {
   "cell_type": "code",
   "execution_count": null,
   "metadata": {},
   "outputs": [],
   "source": [
    "best = List2Best(bests_list,output,f\"{len(valid_images)}.csv\",True)\n",
    "best"
   ]
  },
  {
   "cell_type": "code",
   "execution_count": null,
   "metadata": {},
   "outputs": [],
   "source": [
    "# caso gostemos do resultado e desejemos salvar o modelo\n",
    "Save_model(model,join(MODEL,'rf'))"
   ]
  },
  {
   "cell_type": "markdown",
   "metadata": {},
   "source": [
    "# Avaliando o comparativo dos modelos "
   ]
  },
  {
   "cell_type": "code",
   "execution_count": null,
   "metadata": {},
   "outputs": [],
   "source": [
    "# caso não tenhamos nosso DataFrame carregado, podemos carregalo apartir de um arquivo\n",
    "result_models = File2df(join(output,\"not rf.csv\"))\n",
    "\n",
    "#result_models.drop(\"Unnamed: 0\",axis=1,inplace=True)\n",
    "result_models.columns"
   ]
  },
  {
   "cell_type": "code",
   "execution_count": null,
   "metadata": {},
   "outputs": [],
   "source": [
    "result_models"
   ]
  },
  {
   "cell_type": "code",
   "execution_count": null,
   "metadata": {},
   "outputs": [],
   "source": [
    "rotulos = result_models.Modelo.unique()\n",
    "rotulos"
   ]
  },
  {
   "cell_type": "code",
   "execution_count": null,
   "metadata": {},
   "outputs": [],
   "source": [
    "# Suponha que 'df' seja o DataFrame contendo os resultados dos modelos\n",
    "\n",
    "# Rótulos dos modelos\n",
    "model_labels = ['XGBoost', 'GBM', 'KNN', 'SVM', 'MLP']\n",
    "\n",
    "# Lista para armazenar os melhores resultados de cada modelo\n",
    "best_results = []\n",
    "\n",
    "# Iterar sobre os rótulos dos modelos\n",
    "for model_label in model_labels:\n",
    "    # Filtrar o DataFrame para o modelo atual\n",
    "    model_df = result_models[result_models['Modelo'] == model_label]\n",
    "    \n",
    "    # Encontrar a linha com o melhor resultado para o modelo atual\n",
    "    best_row = model_df.loc[model_df['Total'].idxmax()]\n",
    "    \n",
    "    # Adicionar o resultado à lista de melhores resultados\n",
    "    best_results.append(best_row)\n",
    "\n",
    "import pandas as pd\n",
    "# Criar um DataFrame com os melhores resultados\n",
    "print(best_results)\n",
    "best_results_df = pd.DataFrame(best_results)\n",
    "\n",
    "# Exibir o DataFrame com os melhores resultados\n",
    "print(best_results_df)\n"
   ]
  },
  {
   "cell_type": "code",
   "execution_count": null,
   "metadata": {},
   "outputs": [],
   "source": [
    "import matplotlib.pyplot as plt"
   ]
  },
  {
   "cell_type": "code",
   "execution_count": null,
   "metadata": {},
   "outputs": [],
   "source": [
    "# Extrair os nomes dos itens e os valores de desempenho\n",
    "itens = [item[1] for item in result_models]\n",
    "desempenho = [item[-1] for item in result_models]\n",
    "\n",
    "# Plotar o gráfico\n",
    "plt.figure(figsize=(10, 6))\n",
    "plt.barh(itens, desempenho, color='skyblue')\n",
    "plt.xlabel('Desempenho')\n",
    "plt.ylabel('Itens')\n",
    "plt.title('Comparação de Desempenho entre Itens')\n",
    "plt.grid(axis='x')\n",
    "plt.show()"
   ]
  }
 ],
 "metadata": {
  "kernelspec": {
   "display_name": "venv",
   "language": "python",
   "name": "python3"
  },
  "language_info": {
   "codemirror_mode": {
    "name": "ipython",
    "version": 3
   },
   "file_extension": ".py",
   "mimetype": "text/x-python",
   "name": "python",
   "nbconvert_exporter": "python",
   "pygments_lexer": "ipython3",
   "version": "3.12.2"
  }
 },
 "nbformat": 4,
 "nbformat_minor": 2
}
