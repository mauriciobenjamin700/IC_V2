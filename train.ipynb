{
 "cells": [
  {
   "cell_type": "markdown",
   "metadata": {},
   "source": [
    "# Preparação da base de dados para treinar os classificadores"
   ]
  },
  {
   "cell_type": "code",
   "execution_count": 1,
   "metadata": {},
   "outputs": [],
   "source": [
    "from src import (\n",
    "    Folder,\n",
    "    GetModel,\n",
    "    SegmentedList,\n",
    "    segmentation_fails,\n",
    "    ds2df,\n",
    "    save_results,\n",
    "    File2df,\n",
    "    Best_rf,\n",
    "    Rf,\n",
    "    MLP,\n",
    "    SVM,\n",
    "    XGBoost,\n",
    "    KNN,\n",
    "    GBM,\n",
    "    List2Best,\n",
    "    Save_model\n",
    "    )\n",
    "\n",
    "from os.path import join\n",
    "DATA = \"Dados\"\n",
    "MODEL = \"Models\""
   ]
  },
  {
   "cell_type": "code",
   "execution_count": 2,
   "metadata": {},
   "outputs": [],
   "source": [
    "#adquindo as imagens e seus respectivos rotulos\n",
    "#dataBasePath = join(DATA,\"dados\")\n",
    "#dataBasePath = join(DATA,\"changed\",\"rotacionados\")\n",
    "dataBasePath = join(DATA,\"changed\",\"segmentation\")\n",
    "images, labels = Folder(dataBasePath)"
   ]
  },
  {
   "cell_type": "markdown",
   "metadata": {},
   "source": [
    "## Caso as imagens não estejam segmentadas, podemos segmentalas"
   ]
  },
  {
   "cell_type": "code",
   "execution_count": null,
   "metadata": {},
   "outputs": [],
   "source": [
    "\n",
    "segmentation_model = GetModel(join(\"models\",\"best.pt\"))\n",
    "process_images = SegmentedList(images,segmentation_model,is_resized=False) # Por padrão redimensionar garante menor taxa de falha\n",
    "#process_images = SegmentedList(images,segmentation_model,is_resized=True)"
   ]
  },
  {
   "cell_type": "markdown",
   "metadata": {},
   "source": [
    "### com as imagens processadas, precisamos descartar as imagens que não foram segmentadas e salvar seu nome em um arquivo com as falhas"
   ]
  },
  {
   "cell_type": "code",
   "execution_count": null,
   "metadata": {},
   "outputs": [],
   "source": [
    "\n",
    "\n",
    "\n",
    "\n",
    "fails = segmentation_fails(process_images,labels)\n",
    "\n",
    "print(f\"Quantidade: {len(fails)}\\nFalhas:\",fails)\n",
    "\n",
    "#msg = \"falhas-normais-\"\n",
    "#msg = \"falhas-redimensionadas-\"\n",
    "\n"
   ]
  },
  {
   "cell_type": "markdown",
   "metadata": {},
   "source": [
    "### Podemos salvar as falhas em um arquivo de texto para vizualizar depois"
   ]
  },
  {
   "cell_type": "code",
   "execution_count": null,
   "metadata": {},
   "outputs": [],
   "source": [
    "anotation_fails= join(\"docs\",\"Falhas\",\"teste.txt\")\n",
    "\n",
    "with open(anotation_fails, \"w\") as arquivo:\n",
    "        for fail in fails:\n",
    "            arquivo.write(fail + \"\\n\")"
   ]
  },
  {
   "cell_type": "markdown",
   "metadata": {},
   "source": [
    "### fazendo a filtragem das imagens válidas"
   ]
  },
  {
   "cell_type": "code",
   "execution_count": null,
   "metadata": {},
   "outputs": [],
   "source": [
    "valid_images = []\n",
    "valid_labels = []\n",
    "\n",
    "for i in range(0,len(process_images),1):\n",
    "    if labels[i] not in fails:\n",
    "        valid_images.append(process_images[i])\n",
    "        valid_labels.append(labels[i])\n",
    "        \n",
    "\n",
    "print(len(valid_labels),len(valid_images))"
   ]
  },
  {
   "cell_type": "markdown",
   "metadata": {},
   "source": [
    "# Extraindo as Caracteristicas de interesse da base de dados"
   ]
  },
  {
   "cell_type": "code",
   "execution_count": 3,
   "metadata": {},
   "outputs": [],
   "source": [
    "#df = ds2df(process_images,labels)\n",
    "#df = ds2df(valid_images,valid_labels)\n",
    "df = ds2df(images,labels)"
   ]
  },
  {
   "cell_type": "markdown",
   "metadata": {},
   "source": [
    "### Visando evitar repetir o processamento para a mesma base de dados podemos exportar a mesma para um arquivo e apenas ler a partir do arquivo quando quisermos novamente"
   ]
  },
  {
   "cell_type": "code",
   "execution_count": 4,
   "metadata": {},
   "outputs": [],
   "source": [
    "\n",
    "save_results(df,DATA,\"segmentation-bruto\",\".csv\")"
   ]
  },
  {
   "cell_type": "markdown",
   "metadata": {},
   "source": [
    "### Carregando nossos dados a partir de um dataset .csv"
   ]
  },
  {
   "cell_type": "code",
   "execution_count": null,
   "metadata": {},
   "outputs": [],
   "source": [
    "# caso não tenhamos nosso DataFrame carregado, podemos carregalo apartir de um arquivo\n",
    "df = File2df(join(DATA,\"13-03-2024.csv\"))\n",
    "\n",
    "#df.drop(\"Unnamed: 0\",axis=1,inplace=True)\n",
    "df.columns"
   ]
  },
  {
   "cell_type": "markdown",
   "metadata": {},
   "source": [
    "# Treinando os classificadores"
   ]
  },
  {
   "cell_type": "code",
   "execution_count": null,
   "metadata": {},
   "outputs": [],
   "source": [
    "rf = Best_rf(df,join(\"docs\",\"classification\"))\n"
   ]
  },
  {
   "cell_type": "markdown",
   "metadata": {},
   "source": [
    "### Vamos pegar a melhor versão de cada modelo"
   ]
  },
  {
   "cell_type": "code",
   "execution_count": 5,
   "metadata": {},
   "outputs": [
    {
     "data": {
      "text/plain": [
       "[('RF', 0.1, 96.55, 98.53, 95.71, 97.1, 92.85),\n",
       " ('RF', 0.2, 92.67, 91.18, 96.12, 93.58, 85.06),\n",
       " ('RF', 0.3, 89.08, 86.79, 94.85, 90.64, 77.6),\n",
       " ('MLP', 0.1, 70.69, 68.0, 97.14, 80.0, 31.05),\n",
       " ('MLP', 0.2, 70.69, 74.8, 71.32, 73.02, 40.98),\n",
       " ('MLP', 0.3, 72.13, 68.58, 92.27, 78.68, 40.85),\n",
       " ('SVM', 0.1, 76.72, 78.67, 84.29, 81.38, 50.44),\n",
       " ('SVM', 0.2, 74.14, 71.7, 88.37, 79.17, 46.03),\n",
       " ('SVM', 0.3, 68.39, 66.41, 87.63, 75.56, 33.16),\n",
       " ('XGBoost', 0.1, 98.28, 100.0, 97.14, 98.55, 96.42),\n",
       " ('XGBoost', 0.2, 94.83, 95.35, 95.35, 95.35, 89.52),\n",
       " ('XGBoost', 0.3, 94.25, 95.79, 93.81, 94.79, 88.38),\n",
       " ('KNN', 0.1, 92.24, 95.52, 91.43, 93.43, 83.97),\n",
       " ('KNN', 0.2, 85.34, 86.82, 86.82, 86.82, 70.32),\n",
       " ('KNN', 0.3, 83.91, 83.17, 89.18, 86.07, 67.08),\n",
       " ('GBM', 0.1, 93.1, 95.59, 92.86, 94.2, 85.7),\n",
       " ('GBM', 0.2, 87.93, 86.86, 92.25, 89.47, 75.36),\n",
       " ('GBM', 0.3, 87.07, 86.34, 91.24, 88.72, 73.6)]"
      ]
     },
     "execution_count": 5,
     "metadata": {},
     "output_type": "execute_result"
    }
   ],
   "source": [
    "bests_list = []\n",
    "\n",
    "funcs = [Rf, MLP,SVM,XGBoost,KNN,GBM]\n",
    "names = [\"RF\",\"MLP\",\"SVM\",\"XGBoost\",\"KNN\",\"GBM\"]\n",
    "\n",
    "args = (0.1,0.2,0.3)\n",
    "\n",
    "for i,func in enumerate(funcs,0):\n",
    "\n",
    "    for arg in args:\n",
    "        \n",
    "        _, accuracy, precision, recall, f1, kappa = func(df,arg)\n",
    "        bests_list.append((names[i],arg,accuracy, precision, recall, f1, kappa))\n",
    "    \n",
    "bests_list"
   ]
  },
  {
   "cell_type": "code",
   "execution_count": 6,
   "metadata": {},
   "outputs": [],
   "source": [
    "output = join(\"docs\",\"classification\")"
   ]
  },
  {
   "cell_type": "code",
   "execution_count": 8,
   "metadata": {},
   "outputs": [
    {
     "data": {
      "text/plain": [
       "'XGBoost'"
      ]
     },
     "execution_count": 8,
     "metadata": {},
     "output_type": "execute_result"
    }
   ],
   "source": [
    "#best = List2Best(bests_list,output,f\"{len(valid_images)}.csv\",True)\n",
    "best = List2Best(bests_list,output,f\"{len(images)}.csv\",True)\n",
    "best"
   ]
  },
  {
   "cell_type": "markdown",
   "metadata": {},
   "source": [
    "# caso gostemos do resultado e desejemos salvar o modelo"
   ]
  },
  {
   "cell_type": "code",
   "execution_count": null,
   "metadata": {},
   "outputs": [],
   "source": [
    "\n",
    "Save_model(model,join(MODEL,'rf'))"
   ]
  },
  {
   "cell_type": "markdown",
   "metadata": {},
   "source": [
    "# Avaliando o comparativo dos modelos "
   ]
  },
  {
   "cell_type": "code",
   "execution_count": null,
   "metadata": {},
   "outputs": [],
   "source": [
    "# caso não tenhamos nosso DataFrame carregado, podemos carregalo apartir de um arquivo\n",
    "result_models = File2df(join(output,\"not rf.csv\"))\n",
    "\n",
    "#result_models.drop(\"Unnamed: 0\",axis=1,inplace=True)\n",
    "result_models.columns"
   ]
  },
  {
   "cell_type": "code",
   "execution_count": null,
   "metadata": {},
   "outputs": [],
   "source": [
    "result_models"
   ]
  },
  {
   "cell_type": "code",
   "execution_count": null,
   "metadata": {},
   "outputs": [],
   "source": [
    "rotulos = result_models.Modelo.unique()\n",
    "rotulos"
   ]
  },
  {
   "cell_type": "code",
   "execution_count": null,
   "metadata": {},
   "outputs": [],
   "source": [
    "# Suponha que 'df' seja o DataFrame contendo os resultados dos modelos\n",
    "\n",
    "# Rótulos dos modelos\n",
    "model_labels = [\"RF\",\"MLP\",\"SVM\",\"XGBoost\",\"KNN\",\"GBM\"]\n",
    "\n",
    "# Lista para armazenar os melhores resultados de cada modelo\n",
    "best_results = []\n",
    "\n",
    "# Iterar sobre os rótulos dos modelos\n",
    "for model_label in model_labels:\n",
    "    # Filtrar o DataFrame para o modelo atual\n",
    "    model_df = result_models[result_models['Modelo'] == model_label]\n",
    "    \n",
    "    # Encontrar a linha com o melhor resultado para o modelo atual\n",
    "    best_row = model_df.loc[model_df['Total'].idxmax()]\n",
    "    \n",
    "    # Adicionar o resultado à lista de melhores resultados\n",
    "    best_results.append(best_row)\n",
    "\n",
    "import pandas as pd\n",
    "# Criar um DataFrame com os melhores resultados\n",
    "print(best_results)\n",
    "best_results_df = pd.DataFrame(best_results)\n",
    "\n",
    "# Exibir o DataFrame com os melhores resultados\n",
    "print(best_results_df)\n"
   ]
  }
 ],
 "metadata": {
  "kernelspec": {
   "display_name": "venv",
   "language": "python",
   "name": "python3"
  },
  "language_info": {
   "codemirror_mode": {
    "name": "ipython",
    "version": 3
   },
   "file_extension": ".py",
   "mimetype": "text/x-python",
   "name": "python",
   "nbconvert_exporter": "python",
   "pygments_lexer": "ipython3",
   "version": "3.12.2"
  }
 },
 "nbformat": 4,
 "nbformat_minor": 2
}
