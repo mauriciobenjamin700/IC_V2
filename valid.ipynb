{
 "cells": [
  {
   "cell_type": "code",
   "execution_count": null,
   "metadata": {},
   "outputs": [],
   "source": [
    "from src import (\n",
    "    Folder,\n",
    "    GetModel,\n",
    "    SegmentedList\n",
    "    )\n",
    "\n",
    "import matplotlib.pyplot as plt\n",
    "from os.path import join"
   ]
  },
  {
   "cell_type": "code",
   "execution_count": null,
   "metadata": {},
   "outputs": [],
   "source": [
    "DATA = \"Dados\"\n",
    "MODEL = \"Models\"\n",
    "TEST = \"test\""
   ]
  },
  {
   "cell_type": "code",
   "execution_count": null,
   "metadata": {},
   "outputs": [],
   "source": [
    "images, labels = Folder(join(DATA,\"dados\"))"
   ]
  },
  {
   "cell_type": "code",
   "execution_count": null,
   "metadata": {},
   "outputs": [],
   "source": [
    "def visualizar(images):\n",
    "    num_images = len(images)\n",
    "    \n",
    "    for i, imagem in enumerate(images, 1):\n",
    "        plt.figure(figsize=(5, 5))  # Tamanho da figura para cada imagem\n",
    "        plt.imshow(imagem, cmap='gray')  # Plotar a imagem em escala de cinza\n",
    "        plt.axis('off')  # Desligar os eixos\n",
    "        plt.title(f'Imagem {i}/{num_images}')  # Adicionar título com o número da imagem\n",
    "        plt.show()  # Mostrar a imagem\n",
    "    \n"
   ]
  },
  {
   "cell_type": "code",
   "execution_count": null,
   "metadata": {},
   "outputs": [],
   "source": [
    "visualizar(images)"
   ]
  },
  {
   "cell_type": "code",
   "execution_count": null,
   "metadata": {},
   "outputs": [],
   "source": [
    "model = GetModel()\n",
    "\n",
    "process_images = SegmentedList(images,model)\n",
    "\n"
   ]
  },
  {
   "cell_type": "code",
   "execution_count": null,
   "metadata": {},
   "outputs": [],
   "source": [
    "# com as imagens processadas, precisamos descartar as imagens que não foram segmentadas e salvar seu nome em um arquivo com as falhas\n",
    "\n",
    "confs = [0.3,0.5,0.7,0.8,0.9,0.95]\n",
    "\n",
    "r = []\n",
    "\n",
    "for conf in confs:\n",
    "    process_images = SegmentedList(images,model,False,conf)\n",
    "    fails = []\n",
    "\n",
    "    # Iterando de trás para frente\n",
    "    for i in range(len(process_images) - 1, -1, -1):\n",
    "        if process_images[i] is None:\n",
    "            fails.append(labels[i])\n",
    "            \n",
    "            # Remove os elementos das listas\n",
    "            del process_images[i]\n",
    "            del labels[i]\n",
    "\n",
    "\n",
    "    with open(rf\"test\\falhas-{conf}.txt\", \"w\") as arquivo:\n",
    "        for fail in fails:\n",
    "            arquivo.write(fail + \"\\n\")\n",
    "    \n",
    "    r.append((conf,len(process_images)))\n",
    "\n",
    "with open(rf\"test\\results.txt\", \"w\") as arquivo:\n",
    "        for fail in fails:\n",
    "            arquivo.write(fail + \"\\n\")"
   ]
  },
  {
   "cell_type": "code",
   "execution_count": null,
   "metadata": {},
   "outputs": [],
   "source": [
    "visualizar(process_images)"
   ]
  }
 ],
 "metadata": {
  "kernelspec": {
   "display_name": "venv",
   "language": "python",
   "name": "python3"
  },
  "language_info": {
   "codemirror_mode": {
    "name": "ipython",
    "version": 3
   },
   "file_extension": ".py",
   "mimetype": "text/x-python",
   "name": "python",
   "nbconvert_exporter": "python",
   "pygments_lexer": "ipython3",
   "version": "3.12.2"
  }
 },
 "nbformat": 4,
 "nbformat_minor": 2
}
