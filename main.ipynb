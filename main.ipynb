{
 "cells": [
  {
   "cell_type": "markdown",
   "metadata": {},
   "source": [
    "# Preparação da base de dados para treinar os classificadores"
   ]
  },
  {
   "cell_type": "code",
   "execution_count": 1,
   "metadata": {},
   "outputs": [],
   "source": [
    "from src import folder, getModel, segmentedList"
   ]
  },
  {
   "cell_type": "code",
   "execution_count": 2,
   "metadata": {},
   "outputs": [],
   "source": [
    "#adquindo as imagens e seus respectivos rotulos\n",
    "images, labels = folder(r\"Dados\\dados\")\n"
   ]
  },
  {
   "cell_type": "code",
   "execution_count": 4,
   "metadata": {},
   "outputs": [
    {
     "name": "stdout",
     "output_type": "stream",
     "text": [
      "WARNING ⚠️ 'boxes' is deprecated and will be removed in 'ultralytics 8.299999999999999' in the future. Please use 'show_boxes' instead.\n",
      "\n",
      "0: 640x640 1 eye_membrane, 1: 640x640 (no detections), 2: 640x640 1 eye_membrane, 3: 640x640 1 eye_membrane, 4: 640x640 1 eye_membrane, 5: 640x640 1 eye_membrane, 6: 640x640 1 eye_membrane, 7: 640x640 1 eye_membrane, 8: 640x640 1 eye_membrane, 9: 640x640 (no detections), 10: 640x640 1 eye_membrane, 11: 640x640 1 eye_membrane, 12: 640x640 1 eye_membrane, 13: 640x640 (no detections), 14: 640x640 1 eye_membrane, 15: 640x640 (no detections), 16: 640x640 1 eye_membrane, 17: 640x640 1 eye_membrane, 18: 640x640 1 eye_membrane, 19: 640x640 1 eye_membrane, 20: 640x640 1 eye_membrane, 21: 640x640 1 eye_membrane, 22: 640x640 1 eye_membrane, 23: 640x640 (no detections), 24: 640x640 (no detections), 25: 640x640 1 eye_membrane, 26: 640x640 1 eye_membrane, 27: 640x640 1 eye_membrane, 28: 640x640 1 eye_membrane, 29: 640x640 1 eye_membrane, 30: 640x640 1 eye_membrane, 31: 640x640 1 eye_membrane, 32: 640x640 1 eye_membrane, 33: 640x640 1 eye_membrane, 34: 640x640 1 eye_membrane, 35: 640x640 1 eye_membrane, 36: 640x640 1 eye_membrane, 37: 640x640 1 eye_membrane, 38: 640x640 1 eye_membrane, 39: 640x640 1 eye_membrane, 40: 640x640 1 eye_membrane, 41: 640x640 1 eye_membrane, 42: 640x640 1 eye_membrane, 43: 640x640 1 eye_membrane, 44: 640x640 1 eye_membrane, 45: 640x640 1 eye_membrane, 46: 640x640 1 eye_membrane, 47: 640x640 1 eye_membrane, 48: 640x640 1 eye_membrane, 49: 640x640 1 eye_membrane, 50: 640x640 1 eye_membrane, 51: 640x640 1 eye_membrane, 52: 640x640 1 eye_membrane, 53: 640x640 1 eye_membrane, 54: 640x640 1 eye_membrane, 55: 640x640 1 eye_membrane, 56: 640x640 1 eye_membrane, 57: 640x640 1 eye_membrane, 58: 640x640 1 eye_membrane, 59: 640x640 1 eye_membrane, 60: 640x640 1 eye_membrane, 61: 640x640 1 eye_membrane, 62: 640x640 1 eye_membrane, 63: 640x640 1 eye_membrane, 64: 640x640 1 eye_membrane, 65: 640x640 1 eye_membrane, 66: 640x640 (no detections), 67: 640x640 1 eye_membrane, 68: 640x640 1 eye_membrane, 69: 640x640 1 eye_membrane, 70: 640x640 1 eye_membrane, 71: 640x640 1 eye_membrane, 72: 640x640 1 eye_membrane, 73: 640x640 1 eye_membrane, 74: 640x640 1 eye_membrane, 75: 640x640 1 eye_membrane, 76: 640x640 1 eye_membrane, 77: 640x640 1 eye_membrane, 78: 640x640 1 eye_membrane, 79: 640x640 1 eye_membrane, 80: 640x640 1 eye_membrane, 81: 640x640 1 eye_membrane, 82: 640x640 1 eye_membrane, 83: 640x640 1 eye_membrane, 84: 640x640 1 eye_membrane, 85: 640x640 1 eye_membrane, 86: 640x640 1 eye_membrane, 87: 640x640 1 eye_membrane, 88: 640x640 1 eye_membrane, 89: 640x640 1 eye_membrane, 90: 640x640 (no detections), 91: 640x640 1 eye_membrane, 92: 640x640 1 eye_membrane, 93: 640x640 1 eye_membrane, 94: 640x640 (no detections), 95: 640x640 (no detections), 96: 640x640 1 eye_membrane, 97: 640x640 1 eye_membrane, 98: 640x640 1 eye_membrane, 99: 640x640 1 eye_membrane, 100: 640x640 1 eye_membrane, 101: 640x640 1 eye_membrane, 102: 640x640 1 eye_membrane, 103: 640x640 1 eye_membrane, 104: 640x640 1 eye_membrane, 105: 640x640 1 eye_membrane, 106: 640x640 1 eye_membrane, 107: 640x640 1 eye_membrane, 108: 640x640 1 eye_membrane, 109: 640x640 1 eye_membrane, 110: 640x640 1 eye_membrane, 111: 640x640 1 eye_membrane, 112: 640x640 1 eye_membrane, 113: 640x640 1 eye_membrane, 114: 640x640 1 eye_membrane, 115: 640x640 1 eye_membrane, 116: 640x640 1 eye_membrane, 117: 640x640 1 eye_membrane, 118: 640x640 1 eye_membrane, 119: 640x640 1 eye_membrane, 120: 640x640 1 eye_membrane, 121: 640x640 1 eye_membrane, 122: 640x640 1 eye_membrane, 123: 640x640 1 eye_membrane, 124: 640x640 1 eye_membrane, 125: 640x640 1 eye_membrane, 126: 640x640 1 eye_membrane, 127: 640x640 1 eye_membrane, 128: 640x640 1 eye_membrane, 129: 640x640 1 eye_membrane, 130: 640x640 1 eye_membrane, 131: 640x640 1 eye_membrane, 132: 640x640 1 eye_membrane, 133: 640x640 1 eye_membrane, 134: 640x640 1 eye_membrane, 135: 640x640 1 eye_membrane, 136: 640x640 1 eye_membrane, 137: 640x640 1 eye_membrane, 138: 640x640 1 eye_membrane, 139: 640x640 1 eye_membrane, 140: 640x640 1 eye_membrane, 141: 640x640 1 eye_membrane, 142: 640x640 1 eye_membrane, 143: 640x640 1 eye_membrane, 144: 640x640 1 eye_membrane, 145: 640x640 1 eye_membrane, 146: 640x640 1 eye_membrane, 147: 640x640 1 eye_membrane, 148: 640x640 1 eye_membrane, 149: 640x640 1 eye_membrane, 150: 640x640 1 eye_membrane, 151: 640x640 1 eye_membrane, 152: 640x640 1 eye_membrane, 153: 640x640 1 eye_membrane, 154: 640x640 1 eye_membrane, 155: 640x640 1 eye_membrane, 156: 640x640 1 eye_membrane, 157: 640x640 1 eye_membrane, 158: 640x640 1 eye_membrane, 159: 640x640 1 eye_membrane, 160: 640x640 1 eye_membrane, 161: 640x640 1 eye_membrane, 162: 640x640 1 eye_membrane, 163: 640x640 1 eye_membrane, 164: 640x640 1 eye_membrane, 165: 640x640 1 eye_membrane, 166: 640x640 1 eye_membrane, 167: 640x640 1 eye_membrane, 168: 640x640 1 eye_membrane, 169: 640x640 1 eye_membrane, 170: 640x640 1 eye_membrane, 171: 640x640 1 eye_membrane, 172: 640x640 1 eye_membrane, 173: 640x640 1 eye_membrane, 174: 640x640 1 eye_membrane, 175: 640x640 1 eye_membrane, 176: 640x640 1 eye_membrane, 177: 640x640 1 eye_membrane, 178: 640x640 1 eye_membrane, 179: 640x640 1 eye_membrane, 180: 640x640 1 eye_membrane, 181: 640x640 1 eye_membrane, 182: 640x640 1 eye_membrane, 183: 640x640 1 eye_membrane, 184: 640x640 1 eye_membrane, 185: 640x640 1 eye_membrane, 186: 640x640 1 eye_membrane, 187: 640x640 1 eye_membrane, 188: 640x640 1 eye_membrane, 189: 640x640 1 eye_membrane, 190: 640x640 1 eye_membrane, 191: 640x640 1 eye_membrane, 192: 640x640 1 eye_membrane, 193: 640x640 1 eye_membrane, 194: 640x640 1 eye_membrane, 195: 640x640 1 eye_membrane, 196: 640x640 1 eye_membrane, 197: 640x640 1 eye_membrane, 198: 640x640 (no detections), 199: 640x640 1 eye_membrane, 200: 640x640 1 eye_membrane, 201: 640x640 1 eye_membrane, 202: 640x640 1 eye_membrane, 203: 640x640 1 eye_membrane, 204: 640x640 1 eye_membrane, 205: 640x640 1 eye_membrane, 206: 640x640 1 eye_membrane, 207: 640x640 1 eye_membrane, 208: 640x640 1 eye_membrane, 209: 640x640 (no detections), 210: 640x640 1 eye_membrane, 211: 640x640 1 eye_membrane, 212: 640x640 1 eye_membrane, 213: 640x640 1 eye_membrane, 214: 640x640 1 eye_membrane, 215: 640x640 1 eye_membrane, 216: 640x640 1 eye_membrane, 217: 640x640 1 eye_membrane, 218: 640x640 1 eye_membrane, 219: 640x640 1 eye_membrane, 220: 640x640 1 eye_membrane, 221: 640x640 1 eye_membrane, 222: 640x640 1 eye_membrane, 223: 640x640 1 eye_membrane, 224: 640x640 1 eye_membrane, 225: 640x640 1 eye_membrane, 226: 640x640 1 eye_membrane, 227: 640x640 1 eye_membrane, 228: 640x640 1 eye_membrane, 229: 640x640 1 eye_membrane, 230: 640x640 1 eye_membrane, 231: 640x640 1 eye_membrane, 232: 640x640 1 eye_membrane, 233: 640x640 1 eye_membrane, 234: 640x640 1 eye_membrane, 235: 640x640 1 eye_membrane, 236: 640x640 1 eye_membrane, 237: 640x640 1 eye_membrane, 238: 640x640 1 eye_membrane, 239: 640x640 1 eye_membrane, 240: 640x640 1 eye_membrane, 241: 640x640 1 eye_membrane, 242: 640x640 1 eye_membrane, 243: 640x640 1 eye_membrane, 244: 640x640 1 eye_membrane, 245: 640x640 1 eye_membrane, 246: 640x640 1 eye_membrane, 247: 640x640 1 eye_membrane, 248: 640x640 1 eye_membrane, 249: 640x640 1 eye_membrane, 250: 640x640 1 eye_membrane, 251: 640x640 1 eye_membrane, 252: 640x640 1 eye_membrane, 253: 640x640 1 eye_membrane, 254: 640x640 1 eye_membrane, 255: 640x640 1 eye_membrane, 256: 640x640 1 eye_membrane, 257: 640x640 1 eye_membrane, 258: 640x640 1 eye_membrane, 259: 640x640 1 eye_membrane, 260: 640x640 1 eye_membrane, 261: 640x640 1 eye_membrane, 262: 640x640 1 eye_membrane, 263: 640x640 1 eye_membrane, 264: 640x640 1 eye_membrane, 265: 640x640 1 eye_membrane, 266: 640x640 1 eye_membrane, 267: 640x640 1 eye_membrane, 268: 640x640 1 eye_membrane, 269: 640x640 1 eye_membrane, 270: 640x640 1 eye_membrane, 271: 640x640 1 eye_membrane, 272: 640x640 1 eye_membrane, 273: 640x640 1 eye_membrane, 274: 640x640 1 eye_membrane, 275: 640x640 1 eye_membrane, 276: 640x640 1 eye_membrane, 277: 640x640 1 eye_membrane, 278: 640x640 1 eye_membrane, 279: 640x640 1 eye_membrane, 280: 640x640 1 eye_membrane, 281: 640x640 1 eye_membrane, 282: 640x640 1 eye_membrane, 283: 640x640 1 eye_membrane, 284: 640x640 1 eye_membrane, 285: 640x640 1 eye_membrane, 286: 640x640 1 eye_membrane, 287: 640x640 1 eye_membrane, 288: 640x640 1 eye_membrane, 289: 640x640 1 eye_membrane, 290: 640x640 1 eye_membrane, 291: 640x640 1 eye_membrane, 292: 640x640 1 eye_membrane, 293: 640x640 1 eye_membrane, 294: 640x640 1 eye_membrane, 295: 640x640 1 eye_membrane, 296: 640x640 1 eye_membrane, 297: 640x640 1 eye_membrane, 298: 640x640 1 eye_membrane, 299: 640x640 1 eye_membrane, 300: 640x640 1 eye_membrane, 301: 640x640 1 eye_membrane, 302: 640x640 1 eye_membrane, 303: 640x640 1 eye_membrane, 304: 640x640 1 eye_membrane, 305: 640x640 1 eye_membrane, 306: 640x640 1 eye_membrane, 307: 640x640 1 eye_membrane, 308: 640x640 1 eye_membrane, 309: 640x640 1 eye_membrane, 310: 640x640 1 eye_membrane, 311: 640x640 1 eye_membrane, 312: 640x640 1 eye_membrane, 313: 640x640 1 eye_membrane, 314: 640x640 1 eye_membrane, 315: 640x640 1 eye_membrane, 316: 640x640 (no detections), 317: 640x640 1 eye_membrane, 318: 640x640 1 eye_membrane, 319: 640x640 1 eye_membrane, 320: 640x640 1 eye_membrane, 321: 640x640 1 eye_membrane, 322: 640x640 1 eye_membrane, 199398.7ms\n",
      "Speed: 13.5ms preprocess, 617.3ms inference, 6.2ms postprocess per image at shape (1, 3, 640, 640)\n",
      "WARNING ⚠️ 'boxes' is deprecated and will be removed in 'ultralytics 8.299999999999999' in the future. Please use 'show_boxes' instead.\n",
      "\n",
      "WARNING ⚠️ 'boxes' is deprecated and will be removed in 'ultralytics 8.299999999999999' in the future. Please use 'show_boxes' instead.\n",
      "\n"
     ]
    }
   ],
   "source": [
    "segmentation_model = getModel(r\"models\\best.pt\")\n",
    "process_images = segmentedList(images,segmentation_model)"
   ]
  },
  {
   "cell_type": "code",
   "execution_count": null,
   "metadata": {},
   "outputs": [],
   "source": [
    "# com as imagens processadas, precisamos descartar as imagens que não foram segmentadas e salvar seu nome em um arquivo com as falhas\n",
    "\n",
    "fails = []\n",
    "\n",
    "# Iterando de trás para frente\n",
    "for i in range(len(process_images) - 1, -1, -1):\n",
    "    if process_images[i] is None:\n",
    "        fails.append(labels[i])\n",
    "        \n",
    "        # Remove os elementos das listas\n",
    "        del process_images[i]\n",
    "        del labels[i]\n",
    "\n",
    "\n",
    "with open(r\"Dados\\falhas.txt\", \"w\") as arquivo:\n",
    "    for fail in fails:\n",
    "        arquivo.write(fail + \"\\n\")\n",
    "        \n",
    "print(\"Imagens segmentadas com sucesso: \",len(process_images))\n",
    "print(\"Rotulos validos: \",len(labels))"
   ]
  },
  {
   "cell_type": "markdown",
   "metadata": {},
   "source": [
    "# Treinando os classificadores"
   ]
  },
  {
   "cell_type": "code",
   "execution_count": null,
   "metadata": {},
   "outputs": [],
   "source": []
  }
 ],
 "metadata": {
  "kernelspec": {
   "display_name": "venv",
   "language": "python",
   "name": "python3"
  },
  "language_info": {
   "codemirror_mode": {
    "name": "ipython",
    "version": 3
   },
   "file_extension": ".py",
   "mimetype": "text/x-python",
   "name": "python",
   "nbconvert_exporter": "python",
   "pygments_lexer": "ipython3",
   "version": "3.12.2"
  }
 },
 "nbformat": 4,
 "nbformat_minor": 2
}
